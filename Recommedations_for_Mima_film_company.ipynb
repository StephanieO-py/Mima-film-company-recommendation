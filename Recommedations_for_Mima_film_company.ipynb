{
  "nbformat": 4,
  "nbformat_minor": 0,
  "metadata": {
    "colab": {
      "name": "Recommedations for Mima film company ",
      "provenance": [],
      "collapsed_sections": [
        "kLG2VTrnTvYL",
        "XecOwPNorl2W",
        "J4wfHZwQrs-t",
        "a9BPYqunry97",
        "7KMRBJ7zr9HD",
        "zSGyg6kWsBUl",
        "noZz5YRQXKzi",
        "xrmHVMVsVS--",
        "HPQviDmNtta8",
        "qjFHK1CKty7o",
        "HSsicSdvt4Zs"
      ],
      "include_colab_link": true
    },
    "kernelspec": {
      "name": "python3",
      "display_name": "Python 3"
    },
    "language_info": {
      "name": "python"
    }
  },
  "cells": [
    {
      "cell_type": "markdown",
      "metadata": {
        "id": "view-in-github",
        "colab_type": "text"
      },
      "source": [
        "<a href=\"https://colab.research.google.com/github/StephanieO-py/Mima-film-company-recommendation/blob/main/Recommedations_for_Mima_film_company.ipynb\" target=\"_parent\"><img src=\"https://colab.research.google.com/assets/colab-badge.svg\" alt=\"Open In Colab\"/></a>"
      ]
    },
    {
      "cell_type": "markdown",
      "metadata": {
        "id": "gtegFEJ83DN2"
      },
      "source": [
        "# AfterWork Data Science: Data Visualisation with Matplotlib"
      ]
    },
    {
      "cell_type": "markdown",
      "metadata": {
        "id": "kLG2VTrnTvYL"
      },
      "source": [
        "## 1. Defining the Question"
      ]
    },
    {
      "cell_type": "markdown",
      "metadata": {
        "id": "XecOwPNorl2W"
      },
      "source": [
        "### a) Specifying the Data Analysis Question"
      ]
    },
    {
      "cell_type": "markdown",
      "metadata": {
        "id": "ym7-i7auXZPg"
      },
      "source": [
        "We need to identify the kinds of movies that the Mima startup should create in order to have a profitable business."
      ]
    },
    {
      "cell_type": "markdown",
      "metadata": {
        "id": "J4wfHZwQrs-t"
      },
      "source": [
        "### b) Defining the Metric for Success"
      ]
    },
    {
      "cell_type": "markdown",
      "metadata": {
        "id": "IuQcoaLFGjkH"
      },
      "source": [
        "We can gauge if our solution has satisfied the research question through:\n",
        "\n",
        "Picking a movie or three from the dataset using the features given in the solution and checking if it brought in major profits or not."
      ]
    },
    {
      "cell_type": "markdown",
      "metadata": {
        "id": "a9BPYqunry97"
      },
      "source": [
        "### c) Understanding the context "
      ]
    },
    {
      "cell_type": "markdown",
      "metadata": {
        "id": "2jeqV9VPG1tg"
      },
      "source": [
        "I'm a data science consultant working for Mima, a start-up company aiming to begin working in the filming industry. Through analysis of previous movies and their performance in the industry, we can advise them on how to best proceed in order to rake in major profits."
      ]
    },
    {
      "cell_type": "markdown",
      "metadata": {
        "id": "7KMRBJ7zr9HD"
      },
      "source": [
        "### d) Recording the Experimental Design"
      ]
    },
    {
      "cell_type": "markdown",
      "metadata": {
        "id": "YG0dB0_PG5_i"
      },
      "source": [
        "The steps that'll be used to answer the given questions are:\n",
        "- Load and read the data/ obtain the data.\n",
        "- Clean the data such that it does not contain any irregularities such as missing or duplicated data.\n",
        "- Understanding what is required for each question i.e the features from the data involved.\n",
        "- Plotting the appropriate visialization.\n",
        "- Noting down the observations from the visualizations and making a suitable conclusion/recommendation."
      ]
    },
    {
      "cell_type": "markdown",
      "metadata": {
        "id": "zSGyg6kWsBUl"
      },
      "source": [
        "### e) Data Relevance"
      ]
    },
    {
      "cell_type": "markdown",
      "metadata": {
        "id": "UogUWzkTHJ9D"
      },
      "source": [
        "The data provided is relevant because it is directly related to the main question we are trying to answer; in investigating the movie industry, it is relavant, suitable and appropriate that we use a dataset containing information about the fim industry dating back."
      ]
    },
    {
      "cell_type": "markdown",
      "metadata": {
        "id": "iUNbvIvnT7ep"
      },
      "source": [
        "## 2. Reading the Data"
      ]
    },
    {
      "cell_type": "code",
      "metadata": {
        "id": "juxif2Sx8Z5_"
      },
      "source": [
        "# Loading libraries\n",
        "# ---\n",
        "# \n",
        "import pandas as pd\n",
        "import numpy as np\n",
        "import matplotlib.pyplot as plt    "
      ],
      "execution_count": 1,
      "outputs": []
    },
    {
      "cell_type": "code",
      "metadata": {
        "id": "XJn2KjW-WMlG",
        "colab": {
          "base_uri": "https://localhost:8080/",
          "height": 625
        },
        "outputId": "e4bfd5b9-a39d-4643-944b-33d7ddc014dd"
      },
      "source": [
        "# Loading the dataset\n",
        "# --- \n",
        "# Dataset url = http://bit.ly/MoviesDS\n",
        "# --- \n",
        "# \n",
        "df = pd.read_csv('http://bit.ly/MoviesDS')\n",
        "df.head()"
      ],
      "execution_count": 2,
      "outputs": [
        {
          "output_type": "execute_result",
          "data": {
            "text/html": [
              "<div>\n",
              "<style scoped>\n",
              "    .dataframe tbody tr th:only-of-type {\n",
              "        vertical-align: middle;\n",
              "    }\n",
              "\n",
              "    .dataframe tbody tr th {\n",
              "        vertical-align: top;\n",
              "    }\n",
              "\n",
              "    .dataframe thead th {\n",
              "        text-align: right;\n",
              "    }\n",
              "</style>\n",
              "<table border=\"1\" class=\"dataframe\">\n",
              "  <thead>\n",
              "    <tr style=\"text-align: right;\">\n",
              "      <th></th>\n",
              "      <th>id</th>\n",
              "      <th>imdb_id</th>\n",
              "      <th>popularity</th>\n",
              "      <th>budget</th>\n",
              "      <th>revenue</th>\n",
              "      <th>original_title</th>\n",
              "      <th>cast</th>\n",
              "      <th>homepage</th>\n",
              "      <th>director</th>\n",
              "      <th>tagline</th>\n",
              "      <th>keywords</th>\n",
              "      <th>overview</th>\n",
              "      <th>runtime</th>\n",
              "      <th>genres</th>\n",
              "      <th>production_companies</th>\n",
              "      <th>release_date</th>\n",
              "      <th>vote_count</th>\n",
              "      <th>vote_average</th>\n",
              "      <th>release_year</th>\n",
              "      <th>budget_adj</th>\n",
              "      <th>revenue_adj</th>\n",
              "    </tr>\n",
              "  </thead>\n",
              "  <tbody>\n",
              "    <tr>\n",
              "      <th>0</th>\n",
              "      <td>135397</td>\n",
              "      <td>tt0369610</td>\n",
              "      <td>32.985763</td>\n",
              "      <td>150000000</td>\n",
              "      <td>1513528810</td>\n",
              "      <td>Jurassic World</td>\n",
              "      <td>Chris Pratt|Bryce Dallas Howard|Irrfan Khan|Vi...</td>\n",
              "      <td>http://www.jurassicworld.com/</td>\n",
              "      <td>Colin Trevorrow</td>\n",
              "      <td>The park is open.</td>\n",
              "      <td>monster|dna|tyrannosaurus rex|velociraptor|island</td>\n",
              "      <td>Twenty-two years after the events of Jurassic ...</td>\n",
              "      <td>124</td>\n",
              "      <td>Action|Adventure|Science Fiction|Thriller</td>\n",
              "      <td>Universal Studios|Amblin Entertainment|Legenda...</td>\n",
              "      <td>6/9/15</td>\n",
              "      <td>5562</td>\n",
              "      <td>6.5</td>\n",
              "      <td>2015</td>\n",
              "      <td>1.379999e+08</td>\n",
              "      <td>1.392446e+09</td>\n",
              "    </tr>\n",
              "    <tr>\n",
              "      <th>1</th>\n",
              "      <td>76341</td>\n",
              "      <td>tt1392190</td>\n",
              "      <td>28.419936</td>\n",
              "      <td>150000000</td>\n",
              "      <td>378436354</td>\n",
              "      <td>Mad Max: Fury Road</td>\n",
              "      <td>Tom Hardy|Charlize Theron|Hugh Keays-Byrne|Nic...</td>\n",
              "      <td>http://www.madmaxmovie.com/</td>\n",
              "      <td>George Miller</td>\n",
              "      <td>What a Lovely Day.</td>\n",
              "      <td>future|chase|post-apocalyptic|dystopia|australia</td>\n",
              "      <td>An apocalyptic story set in the furthest reach...</td>\n",
              "      <td>120</td>\n",
              "      <td>Action|Adventure|Science Fiction|Thriller</td>\n",
              "      <td>Village Roadshow Pictures|Kennedy Miller Produ...</td>\n",
              "      <td>5/13/15</td>\n",
              "      <td>6185</td>\n",
              "      <td>7.1</td>\n",
              "      <td>2015</td>\n",
              "      <td>1.379999e+08</td>\n",
              "      <td>3.481613e+08</td>\n",
              "    </tr>\n",
              "    <tr>\n",
              "      <th>2</th>\n",
              "      <td>262500</td>\n",
              "      <td>tt2908446</td>\n",
              "      <td>13.112507</td>\n",
              "      <td>110000000</td>\n",
              "      <td>295238201</td>\n",
              "      <td>Insurgent</td>\n",
              "      <td>Shailene Woodley|Theo James|Kate Winslet|Ansel...</td>\n",
              "      <td>http://www.thedivergentseries.movie/#insurgent</td>\n",
              "      <td>Robert Schwentke</td>\n",
              "      <td>One Choice Can Destroy You</td>\n",
              "      <td>based on novel|revolution|dystopia|sequel|dyst...</td>\n",
              "      <td>Beatrice Prior must confront her inner demons ...</td>\n",
              "      <td>119</td>\n",
              "      <td>Adventure|Science Fiction|Thriller</td>\n",
              "      <td>Summit Entertainment|Mandeville Films|Red Wago...</td>\n",
              "      <td>3/18/15</td>\n",
              "      <td>2480</td>\n",
              "      <td>6.3</td>\n",
              "      <td>2015</td>\n",
              "      <td>1.012000e+08</td>\n",
              "      <td>2.716190e+08</td>\n",
              "    </tr>\n",
              "    <tr>\n",
              "      <th>3</th>\n",
              "      <td>140607</td>\n",
              "      <td>tt2488496</td>\n",
              "      <td>11.173104</td>\n",
              "      <td>200000000</td>\n",
              "      <td>2068178225</td>\n",
              "      <td>Star Wars: The Force Awakens</td>\n",
              "      <td>Harrison Ford|Mark Hamill|Carrie Fisher|Adam D...</td>\n",
              "      <td>http://www.starwars.com/films/star-wars-episod...</td>\n",
              "      <td>J.J. Abrams</td>\n",
              "      <td>Every generation has a story.</td>\n",
              "      <td>android|spaceship|jedi|space opera|3d</td>\n",
              "      <td>Thirty years after defeating the Galactic Empi...</td>\n",
              "      <td>136</td>\n",
              "      <td>Action|Adventure|Science Fiction|Fantasy</td>\n",
              "      <td>Lucasfilm|Truenorth Productions|Bad Robot</td>\n",
              "      <td>12/15/15</td>\n",
              "      <td>5292</td>\n",
              "      <td>7.5</td>\n",
              "      <td>2015</td>\n",
              "      <td>1.839999e+08</td>\n",
              "      <td>1.902723e+09</td>\n",
              "    </tr>\n",
              "    <tr>\n",
              "      <th>4</th>\n",
              "      <td>168259</td>\n",
              "      <td>tt2820852</td>\n",
              "      <td>9.335014</td>\n",
              "      <td>190000000</td>\n",
              "      <td>1506249360</td>\n",
              "      <td>Furious 7</td>\n",
              "      <td>Vin Diesel|Paul Walker|Jason Statham|Michelle ...</td>\n",
              "      <td>http://www.furious7.com/</td>\n",
              "      <td>James Wan</td>\n",
              "      <td>Vengeance Hits Home</td>\n",
              "      <td>car race|speed|revenge|suspense|car</td>\n",
              "      <td>Deckard Shaw seeks revenge against Dominic Tor...</td>\n",
              "      <td>137</td>\n",
              "      <td>Action|Crime|Thriller</td>\n",
              "      <td>Universal Pictures|Original Film|Media Rights ...</td>\n",
              "      <td>4/1/15</td>\n",
              "      <td>2947</td>\n",
              "      <td>7.3</td>\n",
              "      <td>2015</td>\n",
              "      <td>1.747999e+08</td>\n",
              "      <td>1.385749e+09</td>\n",
              "    </tr>\n",
              "  </tbody>\n",
              "</table>\n",
              "</div>"
            ],
            "text/plain": [
              "       id    imdb_id  popularity  ...  release_year    budget_adj   revenue_adj\n",
              "0  135397  tt0369610   32.985763  ...          2015  1.379999e+08  1.392446e+09\n",
              "1   76341  tt1392190   28.419936  ...          2015  1.379999e+08  3.481613e+08\n",
              "2  262500  tt2908446   13.112507  ...          2015  1.012000e+08  2.716190e+08\n",
              "3  140607  tt2488496   11.173104  ...          2015  1.839999e+08  1.902723e+09\n",
              "4  168259  tt2820852    9.335014  ...          2015  1.747999e+08  1.385749e+09\n",
              "\n",
              "[5 rows x 21 columns]"
            ]
          },
          "metadata": {},
          "execution_count": 2
        }
      ]
    },
    {
      "cell_type": "code",
      "metadata": {
        "id": "A95RQzFm8quY",
        "colab": {
          "base_uri": "https://localhost:8080/"
        },
        "outputId": "4734c6bc-7d08-4add-e6e3-9600b9173505"
      },
      "source": [
        "# Determining the size \n",
        "# ---\n",
        "#\n",
        "df.shape"
      ],
      "execution_count": 3,
      "outputs": [
        {
          "output_type": "execute_result",
          "data": {
            "text/plain": [
              "(10866, 21)"
            ]
          },
          "metadata": {},
          "execution_count": 3
        }
      ]
    },
    {
      "cell_type": "code",
      "metadata": {
        "id": "XDHj_5xu8w3a",
        "colab": {
          "base_uri": "https://localhost:8080/"
        },
        "outputId": "26a67580-bf3c-4690-bee1-0a1c38b3fe3d"
      },
      "source": [
        "# Checking the datatypes\n",
        "# ---\n",
        "# \n",
        "df.dtypes"
      ],
      "execution_count": 4,
      "outputs": [
        {
          "output_type": "execute_result",
          "data": {
            "text/plain": [
              "id                        int64\n",
              "imdb_id                  object\n",
              "popularity              float64\n",
              "budget                    int64\n",
              "revenue                   int64\n",
              "original_title           object\n",
              "cast                     object\n",
              "homepage                 object\n",
              "director                 object\n",
              "tagline                  object\n",
              "keywords                 object\n",
              "overview                 object\n",
              "runtime                   int64\n",
              "genres                   object\n",
              "production_companies     object\n",
              "release_date             object\n",
              "vote_count                int64\n",
              "vote_average            float64\n",
              "release_year              int64\n",
              "budget_adj              float64\n",
              "revenue_adj             float64\n",
              "dtype: object"
            ]
          },
          "metadata": {},
          "execution_count": 4
        }
      ]
    },
    {
      "cell_type": "code",
      "metadata": {
        "id": "VxQQxSSq88II",
        "colab": {
          "base_uri": "https://localhost:8080/",
          "height": 300
        },
        "outputId": "6f627277-f249-4f22-cd4a-cf95aea48490"
      },
      "source": [
        "# Statistical summary\n",
        "# ---\n",
        "#\n",
        "df.describe()"
      ],
      "execution_count": 5,
      "outputs": [
        {
          "output_type": "execute_result",
          "data": {
            "text/html": [
              "<div>\n",
              "<style scoped>\n",
              "    .dataframe tbody tr th:only-of-type {\n",
              "        vertical-align: middle;\n",
              "    }\n",
              "\n",
              "    .dataframe tbody tr th {\n",
              "        vertical-align: top;\n",
              "    }\n",
              "\n",
              "    .dataframe thead th {\n",
              "        text-align: right;\n",
              "    }\n",
              "</style>\n",
              "<table border=\"1\" class=\"dataframe\">\n",
              "  <thead>\n",
              "    <tr style=\"text-align: right;\">\n",
              "      <th></th>\n",
              "      <th>id</th>\n",
              "      <th>popularity</th>\n",
              "      <th>budget</th>\n",
              "      <th>revenue</th>\n",
              "      <th>runtime</th>\n",
              "      <th>vote_count</th>\n",
              "      <th>vote_average</th>\n",
              "      <th>release_year</th>\n",
              "      <th>budget_adj</th>\n",
              "      <th>revenue_adj</th>\n",
              "    </tr>\n",
              "  </thead>\n",
              "  <tbody>\n",
              "    <tr>\n",
              "      <th>count</th>\n",
              "      <td>10866.000000</td>\n",
              "      <td>10866.000000</td>\n",
              "      <td>1.086600e+04</td>\n",
              "      <td>1.086600e+04</td>\n",
              "      <td>10866.000000</td>\n",
              "      <td>10866.000000</td>\n",
              "      <td>10866.000000</td>\n",
              "      <td>10866.000000</td>\n",
              "      <td>1.086600e+04</td>\n",
              "      <td>1.086600e+04</td>\n",
              "    </tr>\n",
              "    <tr>\n",
              "      <th>mean</th>\n",
              "      <td>66064.177434</td>\n",
              "      <td>0.646441</td>\n",
              "      <td>1.462570e+07</td>\n",
              "      <td>3.982332e+07</td>\n",
              "      <td>102.070863</td>\n",
              "      <td>217.389748</td>\n",
              "      <td>5.974922</td>\n",
              "      <td>2001.322658</td>\n",
              "      <td>1.755104e+07</td>\n",
              "      <td>5.136436e+07</td>\n",
              "    </tr>\n",
              "    <tr>\n",
              "      <th>std</th>\n",
              "      <td>92130.136561</td>\n",
              "      <td>1.000185</td>\n",
              "      <td>3.091321e+07</td>\n",
              "      <td>1.170035e+08</td>\n",
              "      <td>31.381405</td>\n",
              "      <td>575.619058</td>\n",
              "      <td>0.935142</td>\n",
              "      <td>12.812941</td>\n",
              "      <td>3.430616e+07</td>\n",
              "      <td>1.446325e+08</td>\n",
              "    </tr>\n",
              "    <tr>\n",
              "      <th>min</th>\n",
              "      <td>5.000000</td>\n",
              "      <td>0.000065</td>\n",
              "      <td>0.000000e+00</td>\n",
              "      <td>0.000000e+00</td>\n",
              "      <td>0.000000</td>\n",
              "      <td>10.000000</td>\n",
              "      <td>1.500000</td>\n",
              "      <td>1960.000000</td>\n",
              "      <td>0.000000e+00</td>\n",
              "      <td>0.000000e+00</td>\n",
              "    </tr>\n",
              "    <tr>\n",
              "      <th>25%</th>\n",
              "      <td>10596.250000</td>\n",
              "      <td>0.207583</td>\n",
              "      <td>0.000000e+00</td>\n",
              "      <td>0.000000e+00</td>\n",
              "      <td>90.000000</td>\n",
              "      <td>17.000000</td>\n",
              "      <td>5.400000</td>\n",
              "      <td>1995.000000</td>\n",
              "      <td>0.000000e+00</td>\n",
              "      <td>0.000000e+00</td>\n",
              "    </tr>\n",
              "    <tr>\n",
              "      <th>50%</th>\n",
              "      <td>20669.000000</td>\n",
              "      <td>0.383856</td>\n",
              "      <td>0.000000e+00</td>\n",
              "      <td>0.000000e+00</td>\n",
              "      <td>99.000000</td>\n",
              "      <td>38.000000</td>\n",
              "      <td>6.000000</td>\n",
              "      <td>2006.000000</td>\n",
              "      <td>0.000000e+00</td>\n",
              "      <td>0.000000e+00</td>\n",
              "    </tr>\n",
              "    <tr>\n",
              "      <th>75%</th>\n",
              "      <td>75610.000000</td>\n",
              "      <td>0.713817</td>\n",
              "      <td>1.500000e+07</td>\n",
              "      <td>2.400000e+07</td>\n",
              "      <td>111.000000</td>\n",
              "      <td>145.750000</td>\n",
              "      <td>6.600000</td>\n",
              "      <td>2011.000000</td>\n",
              "      <td>2.085325e+07</td>\n",
              "      <td>3.369710e+07</td>\n",
              "    </tr>\n",
              "    <tr>\n",
              "      <th>max</th>\n",
              "      <td>417859.000000</td>\n",
              "      <td>32.985763</td>\n",
              "      <td>4.250000e+08</td>\n",
              "      <td>2.781506e+09</td>\n",
              "      <td>900.000000</td>\n",
              "      <td>9767.000000</td>\n",
              "      <td>9.200000</td>\n",
              "      <td>2015.000000</td>\n",
              "      <td>4.250000e+08</td>\n",
              "      <td>2.827124e+09</td>\n",
              "    </tr>\n",
              "  </tbody>\n",
              "</table>\n",
              "</div>"
            ],
            "text/plain": [
              "                  id    popularity  ...    budget_adj   revenue_adj\n",
              "count   10866.000000  10866.000000  ...  1.086600e+04  1.086600e+04\n",
              "mean    66064.177434      0.646441  ...  1.755104e+07  5.136436e+07\n",
              "std     92130.136561      1.000185  ...  3.430616e+07  1.446325e+08\n",
              "min         5.000000      0.000065  ...  0.000000e+00  0.000000e+00\n",
              "25%     10596.250000      0.207583  ...  0.000000e+00  0.000000e+00\n",
              "50%     20669.000000      0.383856  ...  0.000000e+00  0.000000e+00\n",
              "75%     75610.000000      0.713817  ...  2.085325e+07  3.369710e+07\n",
              "max    417859.000000     32.985763  ...  4.250000e+08  2.827124e+09\n",
              "\n",
              "[8 rows x 10 columns]"
            ]
          },
          "metadata": {},
          "execution_count": 5
        }
      ]
    },
    {
      "cell_type": "code",
      "metadata": {
        "id": "IHoq4Fd79DSy",
        "colab": {
          "base_uri": "https://localhost:8080/"
        },
        "outputId": "39cfd651-e718-48a8-f412-8385051ef9f2"
      },
      "source": [
        "# Checking for missing values \n",
        "# ---\n",
        "# \n",
        "df.isnull().sum()\n"
      ],
      "execution_count": 6,
      "outputs": [
        {
          "output_type": "execute_result",
          "data": {
            "text/plain": [
              "id                         0\n",
              "imdb_id                   10\n",
              "popularity                 0\n",
              "budget                     0\n",
              "revenue                    0\n",
              "original_title             0\n",
              "cast                      76\n",
              "homepage                7930\n",
              "director                  44\n",
              "tagline                 2824\n",
              "keywords                1493\n",
              "overview                   4\n",
              "runtime                    0\n",
              "genres                    23\n",
              "production_companies    1030\n",
              "release_date               0\n",
              "vote_count                 0\n",
              "vote_average               0\n",
              "release_year               0\n",
              "budget_adj                 0\n",
              "revenue_adj                0\n",
              "dtype: int64"
            ]
          },
          "metadata": {},
          "execution_count": 6
        }
      ]
    },
    {
      "cell_type": "markdown",
      "metadata": {
        "id": "ckfufNrcUHeH"
      },
      "source": [
        "## 3. External Data Source Validation"
      ]
    },
    {
      "cell_type": "markdown",
      "metadata": {
        "id": "6L4sl_0WXlbg"
      },
      "source": [
        "You can make sure your data matches other credible information. This ensures that the measurements are roughly in line with what they should be and it serves as a check on what other things might be wrong in your dataset.\n",
        "\n",
        "External validation can often be as simple as checking your data against some other data i.e. country population your dataset with country population on world bank data.\n",
        "\n",
        "Replace the text found on this text cell with your external data source validation information."
      ]
    },
    {
      "cell_type": "markdown",
      "metadata": {
        "id": "FlBMxEDBUc9B"
      },
      "source": [
        "## 4. Data Preparation"
      ]
    },
    {
      "cell_type": "code",
      "metadata": {
        "id": "qEFxByRP3oMj"
      },
      "source": [
        "# Dropping irrelevant columns\n",
        "# ---\n",
        "#\n",
        "df.drop(['id','imdb_id', 'homepage', 'overview'], axis=1, inplace=True)"
      ],
      "execution_count": 7,
      "outputs": []
    },
    {
      "cell_type": "code",
      "metadata": {
        "id": "DJLY7ugk9Wgs"
      },
      "source": [
        "# Handling missing data\n",
        "# ---\n",
        "# \n",
        "df['cast'].fillna('missing', inplace=True )\n",
        "df['director'].fillna('missing', inplace=True)\n",
        "df['tagline'].fillna('missing', inplace=True)\n",
        "df['keywords'].fillna('missing', inplace=True)\n",
        "df['genres'].fillna('missing', inplace=True)\n",
        "df['production_companies'].fillna('missing', inplace=True) \n",
        "df['budget'] = df['budget'].replace(0, np.NAN) "
      ],
      "execution_count": 8,
      "outputs": []
    },
    {
      "cell_type": "code",
      "metadata": {
        "id": "W4U0DZbs9nhs",
        "colab": {
          "base_uri": "https://localhost:8080/"
        },
        "outputId": "70865517-017e-41ce-91f8-5a666f46d312"
      },
      "source": [
        "# Previewing the outcome\n",
        "# ---\n",
        "# \n",
        "df.isnull().sum()"
      ],
      "execution_count": 9,
      "outputs": [
        {
          "output_type": "execute_result",
          "data": {
            "text/plain": [
              "popularity                 0\n",
              "budget                  5696\n",
              "revenue                    0\n",
              "original_title             0\n",
              "cast                       0\n",
              "director                   0\n",
              "tagline                    0\n",
              "keywords                   0\n",
              "runtime                    0\n",
              "genres                     0\n",
              "production_companies       0\n",
              "release_date               0\n",
              "vote_count                 0\n",
              "vote_average               0\n",
              "release_year               0\n",
              "budget_adj                 0\n",
              "revenue_adj                0\n",
              "dtype: int64"
            ]
          },
          "metadata": {},
          "execution_count": 9
        }
      ]
    },
    {
      "cell_type": "code",
      "metadata": {
        "id": "uT_2DjEh9tNL",
        "colab": {
          "base_uri": "https://localhost:8080/"
        },
        "outputId": "4643e3b4-7fb6-444a-ea79-187d67f2af8a"
      },
      "source": [
        "# Checking for duplicates \n",
        "# ---\n",
        "#\n",
        "df.duplicated().sum()"
      ],
      "execution_count": 10,
      "outputs": [
        {
          "output_type": "execute_result",
          "data": {
            "text/plain": [
              "1"
            ]
          },
          "metadata": {},
          "execution_count": 10
        }
      ]
    },
    {
      "cell_type": "code",
      "metadata": {
        "id": "OidnIBWe93q0",
        "colab": {
          "base_uri": "https://localhost:8080/"
        },
        "outputId": "072af852-dd3a-43e7-d0ce-7849bcabfb05"
      },
      "source": [
        "# Dropping the duplicates \n",
        "# ---\n",
        "#\n",
        "df.drop_duplicates(inplace = True) \n",
        "\n",
        "# Checking for duplicates for comfirmation\n",
        "# ---\n",
        "#\n",
        "df.duplicated().sum()"
      ],
      "execution_count": 11,
      "outputs": [
        {
          "output_type": "execute_result",
          "data": {
            "text/plain": [
              "0"
            ]
          },
          "metadata": {},
          "execution_count": 11
        }
      ]
    },
    {
      "cell_type": "markdown",
      "metadata": {
        "id": "vTbdjSrhVIiT"
      },
      "source": [
        "\n",
        "## 5. Solution Implementation"
      ]
    },
    {
      "cell_type": "markdown",
      "metadata": {
        "id": "PdHyc8WYHlAG"
      },
      "source": [
        "Here we investigate the questions that would help craft our recommendations."
      ]
    },
    {
      "cell_type": "markdown",
      "metadata": {
        "id": "Nh5mcts5IK8U"
      },
      "source": [
        "### 5.a) Questions"
      ]
    },
    {
      "cell_type": "markdown",
      "metadata": {
        "id": "0kGoZb21A5WH"
      },
      "source": [
        "#### **Question 1**: Do movies with a higher budget end up being popular?"
      ]
    },
    {
      "cell_type": "code",
      "metadata": {
        "id": "CxaO1YNY3yQ5",
        "colab": {
          "base_uri": "https://localhost:8080/",
          "height": 295
        },
        "outputId": "769ba2fe-04a7-4323-8919-140025b8b39c"
      },
      "source": [
        "# Question 1\n",
        "# ---\n",
        "# Do movies with a higher budget end up being popular?\n",
        "# ---\n",
        "#\n",
        "\n",
        "# Create a scatter plot to determine relationship between budget and the popularity\n",
        "budget = df['budget']\n",
        "popularity = df['popularity']\n",
        "\n",
        "# Render \n",
        "plt.scatter(budget, popularity)\n",
        "\n",
        "# Tweak & Label \n",
        "plt.title('Relationship between budget and the popularity')\n",
        "plt.xlabel('budget')\n",
        "plt.ylabel('popularity')\n",
        "plt.autoscale(tight=True)\n",
        "\n",
        "# Display\n",
        "plt.show()"
      ],
      "execution_count": 12,
      "outputs": [
        {
          "output_type": "display_data",
          "data": {
            "image/png": "[encoded data removed]",
            "text/plain": [
              "<Figure size 432x288 with 1 Axes>"
            ]
          },
          "metadata": {
            "needs_background": "light"
          }
        }
      ]
    },
    {
      "cell_type": "markdown",
      "metadata": {
        "id": "_T2Rum-6OKS-"
      },
      "source": [
        "#### Observation\n",
        " 1. As can be seen in the figure, most of the data points are clustered around the same area. The scatter plot indicates that there is little to no correlation between the budget and popularity. A higher budget will not guarantee that the movie will be popular and a low budget movie will not necessary mean that the movie will be unpopular.\n",
        " 2. The movies that are seen to be popular fall in the middle of the budget scale ."
      ]
    },
    {
      "cell_type": "code",
      "metadata": {
        "id": "9dcXjLEX_yb7",
        "colab": {
          "base_uri": "https://localhost:8080/",
          "height": 295
        },
        "outputId": "925137ec-223e-4a70-9fbf-1498fd296aec"
      },
      "source": [
        "# Create a bar chart to compare low budget movies with high budget movies\n",
        "# ---\n",
        "# \n",
        "\n",
        "# create two groups (low and high budget movies) using the median\n",
        "m = df['budget'].median()\n",
        "low_budget =  df.query('budget < {}'.format(m))\n",
        "high_budget =  df.query('budget >= {}'.format(m))\n",
        "\n",
        "# check low budget and high budget mean values respecively \n",
        "mean_popularity_of_low_budget = low_budget['popularity'].mean()\n",
        "mean_popularity_of_high_budget = high_budget['popularity'].mean()\n",
        "\n",
        "# create a bar chart with the values we get above \n",
        "locations = [1,2]\n",
        "heights = [mean_popularity_of_low_budget , mean_popularity_of_high_budget]\n",
        "labels=['low','high']\n",
        "\n",
        "# Hint: use tick_label parameter\n",
        "\n",
        "x = np.arange(len(labels))  # the label locations\n",
        "w = 0.25 # the width of the bars\n",
        "\n",
        "# Add some text for labels, title and custom x-axis tick labels, etc.\n",
        "\n",
        "plt.bar(x - w, mean_popularity_of_low_budget,label = 'Low_budget', width = w, color = 'green', align = 'center')\n",
        "plt.bar(x + w, mean_popularity_of_high_budget,label = 'High_budget', width = w, color = 'yellow', align = 'center')\n",
        "\n",
        "plt.autoscale(tight=True)\n",
        "\n",
        "plt.xticks(x)\n",
        "plt.xlabel(labels)\n",
        "plt.ylabel(\"Budget\")\n",
        "plt.title(\"Comparison between Low budget and High budget movies\")\n",
        "plt.legend()\n",
        "plt.show()"
      ],
      "execution_count": 13,
      "outputs": [
        {
          "output_type": "display_data",
          "data": {
            "image/png": "[encoded data removed]",
            "text/plain": [
              "<Figure size 432x288 with 1 Axes>"
            ]
          },
          "metadata": {
            "needs_background": "light"
          }
        }
      ]
    },
    {
      "cell_type": "code",
      "metadata": {
        "id": "Ei_rVVVcBCvz",
        "colab": {
          "base_uri": "https://localhost:8080/"
        },
        "outputId": "838b8e11-c926-479d-8656-af0c7411fd49"
      },
      "source": [
        "# Percentage difference\n",
        "increase_percentage = (mean_popularity_of_high_budget - mean_popularity_of_low_budget) / mean_popularity_of_high_budget * 100\n",
        "increase_percentage"
      ],
      "execution_count": 14,
      "outputs": [
        {
          "output_type": "execute_result",
          "data": {
            "text/plain": [
              "55.50933772947093"
            ]
          },
          "metadata": {},
          "execution_count": 14
        }
      ]
    },
    {
      "cell_type": "markdown",
      "metadata": {
        "id": "HUqGUPlUAk0d"
      },
      "source": [
        "### Observation\n",
        "1. From the figure plotted above, it is observed that the bulk of the movie production companies prefer to work with high budgets as compared to low budget movies. The average percentage diffence between the two budgets is at 56%, 6% more than half."
      ]
    },
    {
      "cell_type": "markdown",
      "metadata": {
        "id": "EFhikHlJA9Of"
      },
      "source": [
        "**Question 2:** Does the length of the movie affect the vote count and popularity?"
      ]
    },
    {
      "cell_type": "code",
      "metadata": {
        "id": "zn1S3fwR3x4W",
        "colab": {
          "base_uri": "https://localhost:8080/",
          "height": 295
        },
        "outputId": "265dbe92-e636-4e63-80b5-88805a253807"
      },
      "source": [
        "# Question 2\n",
        "# ---\n",
        "# Does the length of the movie affect the vote count and popularity?\n",
        "# ---\n",
        "# \n",
        "\n",
        "# Create 3 movie groups:  <60 min: short, 60 min <=  <= - 120 min: medium,  >120 min: long \n",
        "short =  df.query('runtime < {}'.format(100))\n",
        "medium =  df.query('runtime < {}'.format(200))\n",
        "longer = df.query('runtime > {}'.format(200))\n",
        "\n",
        "# Check mean popularity of different movie lengths \n",
        "mean_popularity_of_short = short['popularity'].mean()\n",
        "mean_popularity_of_medium = medium['popularity'].mean()\n",
        "mean_popularity_of_long = longer['popularity'].mean()\n",
        "\n",
        "# Create a bar chart of average popularity of different movie lengths\n",
        "locations = [1,2,3]\n",
        "heights = [mean_popularity_of_short, mean_popularity_of_medium, mean_popularity_of_long]\n",
        "labels=['low','medium','long']\n",
        "w = 0.2\n",
        "\n",
        "# Add some text for labels, title and custom x-axis tick labels, etc.\n",
        "\n",
        "plt.bar(x - w, mean_popularity_of_short,label = 'Short', width = w, color = 'pink', align = 'center')\n",
        "plt.bar(x , mean_popularity_of_medium,label = 'Medium', width = w, color = 'purple', align = 'center')\n",
        "plt.bar(x + w, mean_popularity_of_long,label = 'Long', width = w, color = 'yellow', align = 'center')\n",
        "\n",
        "plt.autoscale(tight=True)\n",
        "\n",
        "plt.xticks(x)\n",
        "plt.xlabel(labels)\n",
        "plt.ylabel(\"Length\")\n",
        "plt.title(\"Movie lenth agaist popularity and vote count\")\n",
        "plt.legend()\n",
        "plt.show()"
      ],
      "execution_count": 15,
      "outputs": [
        {
          "output_type": "display_data",
          "data": {
            "image/png": "[encoded data removed]",
            "text/plain": [
              "<Figure size 432x288 with 1 Axes>"
            ]
          },
          "metadata": {
            "needs_background": "light"
          }
        }
      ]
    },
    {
      "cell_type": "code",
      "metadata": {
        "id": "Fa5yec4RCKDX",
        "colab": {
          "base_uri": "https://localhost:8080/",
          "height": 295
        },
        "outputId": "9775bff2-2e06-4dee-9c2b-580aafdc3c2b"
      },
      "source": [
        "# Create a scatterplot to determine the relation between runtime and popularity \n",
        "# ---\n",
        "# \n",
        "runtime = df['runtime']\n",
        "popularity = df['popularity'] \n",
        "\n",
        "# Render \n",
        "plt.scatter(runtime, popularity)\n",
        "\n",
        "# Tweak & Label \n",
        "plt.title('Relationship between runtime and the popularity')\n",
        "plt.xlabel('runtime')\n",
        "plt.ylabel('popularity')\n",
        "plt.autoscale(tight=True)\n",
        "\n",
        "# Display\n",
        "plt.show()\n"
      ],
      "execution_count": 16,
      "outputs": [
        {
          "output_type": "display_data",
          "data": {
            "image/png": "[encoded data removed]",
            "text/plain": [
              "<Figure size 432x288 with 1 Axes>"
            ]
          },
          "metadata": {
            "needs_background": "light"
          }
        }
      ]
    },
    {
      "cell_type": "markdown",
      "metadata": {
        "id": "C0CtBdDrCI1x"
      },
      "source": [
        "### Observation\n",
        " 1. As can be seen in the figure, most of the data points are clustered around the same area with some outliers spread out. The scatter plot indicates that there is little to no correlation between the movie runtime and popularity. A movie with 900 minutes runtime can be seen to have around the same votes as one that is 200 minutes long. \n",
        " 2. Across the runtime spectrum, from 0-900 minutes, we see that the popularity count lies mostly between 0 and 5."
      ]
    },
    {
      "cell_type": "markdown",
      "metadata": {
        "id": "J53SQpacClgX"
      },
      "source": [
        "**Question 3:** Does higher popularity mean higher profits?"
      ]
    },
    {
      "cell_type": "code",
      "metadata": {
        "id": "1y8vT3he3x0s",
        "colab": {
          "base_uri": "https://localhost:8080/",
          "height": 295
        },
        "outputId": "f239454d-9cec-40bb-9a43-75d119d4881c"
      },
      "source": [
        "# Question 3\n",
        "# ---\n",
        "# Does higher popularity mean higher profits?\n",
        "# ---\n",
        "#\n",
        "\n",
        "# Getting the mean of popularity \n",
        "m_popularity = df['popularity'].median()\n",
        "lower_popularity =  df.query('popularity < {}'.format(m_popularity))\n",
        "higher_popularity =  df.query('popularity >= {}'.format(m_popularity))\n",
        "\n",
        "# Creating a new column called profit (profit = revenue - budget)\n",
        "df['profit'] = df['revenue'] - df['budget']\n",
        "\n",
        "# Calculating the average net profit for low_popularity and high_popularity\n",
        "mean_profit_of_low_popularity = lower_popularity['profit'].mean()\n",
        "mean_profit_of_high_popularity = higher_popularity['profit'].mean()\n",
        "\n",
        "# create a bar chart with the values we get above \n",
        "locations = [1,2]\n",
        "heights = [mean_profit_of_low_popularity, mean_profit_of_high_popularity]\n",
        "labels=['low','high']\n",
        "w = 0.25 # the width of the bars\n",
        "\n",
        "# Add some text for labels, title and custom x-axis tick labels, etc.\n",
        "\n",
        "plt.bar(x - w, mean_profit_of_low_popularity,label = 'Lower_popularity', width = w, color = 'magenta', align = 'center')\n",
        "plt.bar(x + w, mean_profit_of_high_popularity,label = 'Higher_popularity', width = w, color = 'lightblue', align = 'center')\n",
        "\n",
        "plt.autoscale(tight=True)\n",
        "\n",
        "plt.xticks(x)\n",
        "plt.xlabel(labels)\n",
        "plt.ylabel(\"heights\")\n",
        "plt.title(\"Profit in comparison to movie popularity\")\n",
        "plt.legend()\n",
        "plt.show()"
      ],
      "execution_count": 18,
      "outputs": [
        {
          "output_type": "display_data",
          "data": {
            "image/png": "[encoded data removed]",
            "text/plain": [
              "<Figure size 432x288 with 1 Axes>"
            ]
          },
          "metadata": {
            "needs_background": "light"
          }
        }
      ]
    },
    {
      "cell_type": "markdown",
      "metadata": {
        "id": "wRoZPrv1Hfyg"
      },
      "source": [
        "### Observation\n",
        "1. From the figure plotted above we can certainly conclude that a film's popularity directly translates to the profits it's bound to make i.e. extremely popular movies are highly profitable whereas barely popular movies make a bare minimum profit."
      ]
    },
    {
      "cell_type": "markdown",
      "metadata": {
        "id": "e6ePg_STDjDd"
      },
      "source": [
        "**Question 4:** What features are associated with the top 10 revenue movies?"
      ]
    },
    {
      "cell_type": "code",
      "metadata": {
        "id": "aXQbXFet3xts",
        "colab": {
          "base_uri": "https://localhost:8080/",
          "height": 956
        },
        "outputId": "d6ffad28-1c4f-4b14-fd6d-55a8da330b65"
      },
      "source": [
        "# Question 4\n",
        "# ---\n",
        "# What features are associated with the top 10 revenue movies?\n",
        "# ---\n",
        "# \n",
        "\n",
        "# We introduce a new filter such that the data is sorted with movies with \n",
        "# the highest revenue appearing first. We pick the top 10 entries.\n",
        "\n",
        "revenue_df = df.sort_values(by='revenue', ascending=0)\n",
        "revenue_df.head(n=10)"
      ],
      "execution_count": 23,
      "outputs": [
        {
          "output_type": "execute_result",
          "data": {
            "text/html": [
              "<div>\n",
              "<style scoped>\n",
              "    .dataframe tbody tr th:only-of-type {\n",
              "        vertical-align: middle;\n",
              "    }\n",
              "\n",
              "    .dataframe tbody tr th {\n",
              "        vertical-align: top;\n",
              "    }\n",
              "\n",
              "    .dataframe thead th {\n",
              "        text-align: right;\n",
              "    }\n",
              "</style>\n",
              "<table border=\"1\" class=\"dataframe\">\n",
              "  <thead>\n",
              "    <tr style=\"text-align: right;\">\n",
              "      <th></th>\n",
              "      <th>popularity</th>\n",
              "      <th>budget</th>\n",
              "      <th>revenue</th>\n",
              "      <th>original_title</th>\n",
              "      <th>cast</th>\n",
              "      <th>director</th>\n",
              "      <th>tagline</th>\n",
              "      <th>keywords</th>\n",
              "      <th>runtime</th>\n",
              "      <th>genres</th>\n",
              "      <th>production_companies</th>\n",
              "      <th>release_date</th>\n",
              "      <th>vote_count</th>\n",
              "      <th>vote_average</th>\n",
              "      <th>release_year</th>\n",
              "      <th>budget_adj</th>\n",
              "      <th>revenue_adj</th>\n",
              "      <th>profit</th>\n",
              "    </tr>\n",
              "  </thead>\n",
              "  <tbody>\n",
              "    <tr>\n",
              "      <th>1386</th>\n",
              "      <td>9.432768</td>\n",
              "      <td>237000000.0</td>\n",
              "      <td>2781505847</td>\n",
              "      <td>Avatar</td>\n",
              "      <td>Sam Worthington|Zoe Saldana|Sigourney Weaver|S...</td>\n",
              "      <td>James Cameron</td>\n",
              "      <td>Enter the World of Pandora.</td>\n",
              "      <td>culture clash|future|space war|space colony|so...</td>\n",
              "      <td>162</td>\n",
              "      <td>Action|Adventure|Fantasy|Science Fiction</td>\n",
              "      <td>Ingenious Film Partners|Twentieth Century Fox ...</td>\n",
              "      <td>12/10/09</td>\n",
              "      <td>8458</td>\n",
              "      <td>7.1</td>\n",
              "      <td>2009</td>\n",
              "      <td>2.408869e+08</td>\n",
              "      <td>2.827124e+09</td>\n",
              "      <td>2.544506e+09</td>\n",
              "    </tr>\n",
              "    <tr>\n",
              "      <th>3</th>\n",
              "      <td>11.173104</td>\n",
              "      <td>200000000.0</td>\n",
              "      <td>2068178225</td>\n",
              "      <td>Star Wars: The Force Awakens</td>\n",
              "      <td>Harrison Ford|Mark Hamill|Carrie Fisher|Adam D...</td>\n",
              "      <td>J.J. Abrams</td>\n",
              "      <td>Every generation has a story.</td>\n",
              "      <td>android|spaceship|jedi|space opera|3d</td>\n",
              "      <td>136</td>\n",
              "      <td>Action|Adventure|Science Fiction|Fantasy</td>\n",
              "      <td>Lucasfilm|Truenorth Productions|Bad Robot</td>\n",
              "      <td>12/15/15</td>\n",
              "      <td>5292</td>\n",
              "      <td>7.5</td>\n",
              "      <td>2015</td>\n",
              "      <td>1.839999e+08</td>\n",
              "      <td>1.902723e+09</td>\n",
              "      <td>1.868178e+09</td>\n",
              "    </tr>\n",
              "    <tr>\n",
              "      <th>5231</th>\n",
              "      <td>4.355219</td>\n",
              "      <td>200000000.0</td>\n",
              "      <td>1845034188</td>\n",
              "      <td>Titanic</td>\n",
              "      <td>Kate Winslet|Leonardo DiCaprio|Frances Fisher|...</td>\n",
              "      <td>James Cameron</td>\n",
              "      <td>Nothing on Earth could come between them.</td>\n",
              "      <td>shipwreck|iceberg|ship|panic|titanic</td>\n",
              "      <td>194</td>\n",
              "      <td>Drama|Romance|Thriller</td>\n",
              "      <td>Paramount Pictures|Twentieth Century Fox Film ...</td>\n",
              "      <td>11/18/97</td>\n",
              "      <td>4654</td>\n",
              "      <td>7.3</td>\n",
              "      <td>1997</td>\n",
              "      <td>2.716921e+08</td>\n",
              "      <td>2.506406e+09</td>\n",
              "      <td>1.645034e+09</td>\n",
              "    </tr>\n",
              "    <tr>\n",
              "      <th>4361</th>\n",
              "      <td>7.637767</td>\n",
              "      <td>220000000.0</td>\n",
              "      <td>1519557910</td>\n",
              "      <td>The Avengers</td>\n",
              "      <td>Robert Downey Jr.|Chris Evans|Mark Ruffalo|Chr...</td>\n",
              "      <td>Joss Whedon</td>\n",
              "      <td>Some assembly required.</td>\n",
              "      <td>new york|shield|marvel comic|comic|superhero</td>\n",
              "      <td>143</td>\n",
              "      <td>Science Fiction|Action|Adventure</td>\n",
              "      <td>Marvel Studios</td>\n",
              "      <td>4/25/12</td>\n",
              "      <td>8903</td>\n",
              "      <td>7.3</td>\n",
              "      <td>2012</td>\n",
              "      <td>2.089437e+08</td>\n",
              "      <td>1.443191e+09</td>\n",
              "      <td>1.299558e+09</td>\n",
              "    </tr>\n",
              "    <tr>\n",
              "      <th>0</th>\n",
              "      <td>32.985763</td>\n",
              "      <td>150000000.0</td>\n",
              "      <td>1513528810</td>\n",
              "      <td>Jurassic World</td>\n",
              "      <td>Chris Pratt|Bryce Dallas Howard|Irrfan Khan|Vi...</td>\n",
              "      <td>Colin Trevorrow</td>\n",
              "      <td>The park is open.</td>\n",
              "      <td>monster|dna|tyrannosaurus rex|velociraptor|island</td>\n",
              "      <td>124</td>\n",
              "      <td>Action|Adventure|Science Fiction|Thriller</td>\n",
              "      <td>Universal Studios|Amblin Entertainment|Legenda...</td>\n",
              "      <td>6/9/15</td>\n",
              "      <td>5562</td>\n",
              "      <td>6.5</td>\n",
              "      <td>2015</td>\n",
              "      <td>1.379999e+08</td>\n",
              "      <td>1.392446e+09</td>\n",
              "      <td>1.363529e+09</td>\n",
              "    </tr>\n",
              "    <tr>\n",
              "      <th>4</th>\n",
              "      <td>9.335014</td>\n",
              "      <td>190000000.0</td>\n",
              "      <td>1506249360</td>\n",
              "      <td>Furious 7</td>\n",
              "      <td>Vin Diesel|Paul Walker|Jason Statham|Michelle ...</td>\n",
              "      <td>James Wan</td>\n",
              "      <td>Vengeance Hits Home</td>\n",
              "      <td>car race|speed|revenge|suspense|car</td>\n",
              "      <td>137</td>\n",
              "      <td>Action|Crime|Thriller</td>\n",
              "      <td>Universal Pictures|Original Film|Media Rights ...</td>\n",
              "      <td>4/1/15</td>\n",
              "      <td>2947</td>\n",
              "      <td>7.3</td>\n",
              "      <td>2015</td>\n",
              "      <td>1.747999e+08</td>\n",
              "      <td>1.385749e+09</td>\n",
              "      <td>1.316249e+09</td>\n",
              "    </tr>\n",
              "    <tr>\n",
              "      <th>14</th>\n",
              "      <td>5.944927</td>\n",
              "      <td>280000000.0</td>\n",
              "      <td>1405035767</td>\n",
              "      <td>Avengers: Age of Ultron</td>\n",
              "      <td>Robert Downey Jr.|Chris Hemsworth|Mark Ruffalo...</td>\n",
              "      <td>Joss Whedon</td>\n",
              "      <td>A New Age Has Come.</td>\n",
              "      <td>marvel comic|comic|sequel|superhero|vision</td>\n",
              "      <td>141</td>\n",
              "      <td>Action|Adventure|Science Fiction</td>\n",
              "      <td>Marvel Studios|Prime Focus|Revolution Sun Studios</td>\n",
              "      <td>4/22/15</td>\n",
              "      <td>4304</td>\n",
              "      <td>7.4</td>\n",
              "      <td>2015</td>\n",
              "      <td>2.575999e+08</td>\n",
              "      <td>1.292632e+09</td>\n",
              "      <td>1.125036e+09</td>\n",
              "    </tr>\n",
              "    <tr>\n",
              "      <th>3374</th>\n",
              "      <td>5.711315</td>\n",
              "      <td>125000000.0</td>\n",
              "      <td>1327817822</td>\n",
              "      <td>Harry Potter and the Deathly Hallows: Part 2</td>\n",
              "      <td>Daniel Radcliffe|Rupert Grint|Emma Watson|Alan...</td>\n",
              "      <td>David Yates</td>\n",
              "      <td>It all ends here.</td>\n",
              "      <td>self sacrifice|magic|frog|sorcerer|school</td>\n",
              "      <td>130</td>\n",
              "      <td>Adventure|Family|Fantasy</td>\n",
              "      <td>Warner Bros.|Heyday Films|Moving Picture Compa...</td>\n",
              "      <td>7/7/11</td>\n",
              "      <td>3750</td>\n",
              "      <td>7.7</td>\n",
              "      <td>2011</td>\n",
              "      <td>1.211748e+08</td>\n",
              "      <td>1.287184e+09</td>\n",
              "      <td>1.202818e+09</td>\n",
              "    </tr>\n",
              "    <tr>\n",
              "      <th>5422</th>\n",
              "      <td>6.112766</td>\n",
              "      <td>150000000.0</td>\n",
              "      <td>1274219009</td>\n",
              "      <td>Frozen</td>\n",
              "      <td>Kristen Bell|Idina Menzel|Jonathan Groff|Josh ...</td>\n",
              "      <td>Chris Buck|Jennifer Lee</td>\n",
              "      <td>Only the act of true love will thaw a frozen h...</td>\n",
              "      <td>queen|musical|princess|betrayal|snowman</td>\n",
              "      <td>102</td>\n",
              "      <td>Animation|Adventure|Family</td>\n",
              "      <td>Walt Disney Pictures|Walt Disney Animation Stu...</td>\n",
              "      <td>11/27/13</td>\n",
              "      <td>3369</td>\n",
              "      <td>7.5</td>\n",
              "      <td>2013</td>\n",
              "      <td>1.404050e+08</td>\n",
              "      <td>1.192711e+09</td>\n",
              "      <td>1.124219e+09</td>\n",
              "    </tr>\n",
              "    <tr>\n",
              "      <th>5425</th>\n",
              "      <td>4.946136</td>\n",
              "      <td>200000000.0</td>\n",
              "      <td>1215439994</td>\n",
              "      <td>Iron Man 3</td>\n",
              "      <td>Robert Downey Jr.|Gwyneth Paltrow|Guy Pearce|D...</td>\n",
              "      <td>Shane Black</td>\n",
              "      <td>Unleash the power behind the armor.</td>\n",
              "      <td>terrorist|war on terror|tennessee|malibu|marve...</td>\n",
              "      <td>130</td>\n",
              "      <td>Action|Adventure|Science Fiction</td>\n",
              "      <td>Marvel Studios</td>\n",
              "      <td>4/18/13</td>\n",
              "      <td>6882</td>\n",
              "      <td>6.9</td>\n",
              "      <td>2013</td>\n",
              "      <td>1.872067e+08</td>\n",
              "      <td>1.137692e+09</td>\n",
              "      <td>1.015440e+09</td>\n",
              "    </tr>\n",
              "  </tbody>\n",
              "</table>\n",
              "</div>"
            ],
            "text/plain": [
              "      popularity       budget  ...   revenue_adj        profit\n",
              "1386    9.432768  237000000.0  ...  2.827124e+09  2.544506e+09\n",
              "3      11.173104  200000000.0  ...  1.902723e+09  1.868178e+09\n",
              "5231    4.355219  200000000.0  ...  2.506406e+09  1.645034e+09\n",
              "4361    7.637767  220000000.0  ...  1.443191e+09  1.299558e+09\n",
              "0      32.985763  150000000.0  ...  1.392446e+09  1.363529e+09\n",
              "4       9.335014  190000000.0  ...  1.385749e+09  1.316249e+09\n",
              "14      5.944927  280000000.0  ...  1.292632e+09  1.125036e+09\n",
              "3374    5.711315  125000000.0  ...  1.287184e+09  1.202818e+09\n",
              "5422    6.112766  150000000.0  ...  1.192711e+09  1.124219e+09\n",
              "5425    4.946136  200000000.0  ...  1.137692e+09  1.015440e+09\n",
              "\n",
              "[10 rows x 18 columns]"
            ]
          },
          "metadata": {},
          "execution_count": 23
        }
      ]
    },
    {
      "cell_type": "code",
      "metadata": {
        "colab": {
          "base_uri": "https://localhost:8080/",
          "height": 300
        },
        "id": "oVDofSbk1O0n",
        "outputId": "03ac1d59-3038-45d3-c7b1-7540b51e6061"
      },
      "source": [
        "# We adjust the code such that it reflects \n",
        "# the last highest number from the above preview\n",
        "revenue_df = df[(df['revenue'] >= 1215439994 )].sort_values(by='revenue', ascending=0)\n",
        "\n",
        "# The summary of the new df shows \n",
        "# that there are only 10 entries; the movies with the highest revenue\n",
        "revenue_df.describe()"
      ],
      "execution_count": 24,
      "outputs": [
        {
          "output_type": "execute_result",
          "data": {
            "text/html": [
              "<div>\n",
              "<style scoped>\n",
              "    .dataframe tbody tr th:only-of-type {\n",
              "        vertical-align: middle;\n",
              "    }\n",
              "\n",
              "    .dataframe tbody tr th {\n",
              "        vertical-align: top;\n",
              "    }\n",
              "\n",
              "    .dataframe thead th {\n",
              "        text-align: right;\n",
              "    }\n",
              "</style>\n",
              "<table border=\"1\" class=\"dataframe\">\n",
              "  <thead>\n",
              "    <tr style=\"text-align: right;\">\n",
              "      <th></th>\n",
              "      <th>popularity</th>\n",
              "      <th>budget</th>\n",
              "      <th>revenue</th>\n",
              "      <th>runtime</th>\n",
              "      <th>vote_count</th>\n",
              "      <th>vote_average</th>\n",
              "      <th>release_year</th>\n",
              "      <th>budget_adj</th>\n",
              "      <th>revenue_adj</th>\n",
              "      <th>profit</th>\n",
              "    </tr>\n",
              "  </thead>\n",
              "  <tbody>\n",
              "    <tr>\n",
              "      <th>count</th>\n",
              "      <td>10.000000</td>\n",
              "      <td>1.000000e+01</td>\n",
              "      <td>1.000000e+01</td>\n",
              "      <td>10.0000</td>\n",
              "      <td>10.000000</td>\n",
              "      <td>10.000000</td>\n",
              "      <td>10.000000</td>\n",
              "      <td>1.000000e+01</td>\n",
              "      <td>1.000000e+01</td>\n",
              "      <td>1.000000e+01</td>\n",
              "    </tr>\n",
              "    <tr>\n",
              "      <th>mean</th>\n",
              "      <td>9.763478</td>\n",
              "      <td>1.952000e+08</td>\n",
              "      <td>1.645657e+09</td>\n",
              "      <td>139.9000</td>\n",
              "      <td>5412.100000</td>\n",
              "      <td>7.250000</td>\n",
              "      <td>2011.500000</td>\n",
              "      <td>1.924709e+08</td>\n",
              "      <td>1.636786e+09</td>\n",
              "      <td>1.450457e+09</td>\n",
              "    </tr>\n",
              "    <tr>\n",
              "      <th>std</th>\n",
              "      <td>8.451550</td>\n",
              "      <td>4.553826e+07</td>\n",
              "      <td>4.764679e+08</td>\n",
              "      <td>24.3468</td>\n",
              "      <td>2067.675638</td>\n",
              "      <td>0.343996</td>\n",
              "      <td>5.482295</td>\n",
              "      <td>5.196800e+07</td>\n",
              "      <td>5.860438e+08</td>\n",
              "      <td>4.619437e+08</td>\n",
              "    </tr>\n",
              "    <tr>\n",
              "      <th>min</th>\n",
              "      <td>4.355219</td>\n",
              "      <td>1.250000e+08</td>\n",
              "      <td>1.215440e+09</td>\n",
              "      <td>102.0000</td>\n",
              "      <td>2947.000000</td>\n",
              "      <td>6.500000</td>\n",
              "      <td>1997.000000</td>\n",
              "      <td>1.211748e+08</td>\n",
              "      <td>1.137692e+09</td>\n",
              "      <td>1.015440e+09</td>\n",
              "    </tr>\n",
              "    <tr>\n",
              "      <th>25%</th>\n",
              "      <td>5.769718</td>\n",
              "      <td>1.600000e+08</td>\n",
              "      <td>1.347122e+09</td>\n",
              "      <td>130.0000</td>\n",
              "      <td>3888.500000</td>\n",
              "      <td>7.150000</td>\n",
              "      <td>2011.250000</td>\n",
              "      <td>1.490037e+08</td>\n",
              "      <td>1.288546e+09</td>\n",
              "      <td>1.144481e+09</td>\n",
              "    </tr>\n",
              "    <tr>\n",
              "      <th>50%</th>\n",
              "      <td>6.875267</td>\n",
              "      <td>2.000000e+08</td>\n",
              "      <td>1.509889e+09</td>\n",
              "      <td>136.5000</td>\n",
              "      <td>4973.000000</td>\n",
              "      <td>7.300000</td>\n",
              "      <td>2013.000000</td>\n",
              "      <td>1.856033e+08</td>\n",
              "      <td>1.389097e+09</td>\n",
              "      <td>1.307904e+09</td>\n",
              "    </tr>\n",
              "    <tr>\n",
              "      <th>75%</th>\n",
              "      <td>9.408329</td>\n",
              "      <td>2.150000e+08</td>\n",
              "      <td>1.763665e+09</td>\n",
              "      <td>142.5000</td>\n",
              "      <td>6552.000000</td>\n",
              "      <td>7.475000</td>\n",
              "      <td>2015.000000</td>\n",
              "      <td>2.329011e+08</td>\n",
              "      <td>1.787840e+09</td>\n",
              "      <td>1.574658e+09</td>\n",
              "    </tr>\n",
              "    <tr>\n",
              "      <th>max</th>\n",
              "      <td>32.985763</td>\n",
              "      <td>2.800000e+08</td>\n",
              "      <td>2.781506e+09</td>\n",
              "      <td>194.0000</td>\n",
              "      <td>8903.000000</td>\n",
              "      <td>7.700000</td>\n",
              "      <td>2015.000000</td>\n",
              "      <td>2.716921e+08</td>\n",
              "      <td>2.827124e+09</td>\n",
              "      <td>2.544506e+09</td>\n",
              "    </tr>\n",
              "  </tbody>\n",
              "</table>\n",
              "</div>"
            ],
            "text/plain": [
              "       popularity        budget  ...   revenue_adj        profit\n",
              "count   10.000000  1.000000e+01  ...  1.000000e+01  1.000000e+01\n",
              "mean     9.763478  1.952000e+08  ...  1.636786e+09  1.450457e+09\n",
              "std      8.451550  4.553826e+07  ...  5.860438e+08  4.619437e+08\n",
              "min      4.355219  1.250000e+08  ...  1.137692e+09  1.015440e+09\n",
              "25%      5.769718  1.600000e+08  ...  1.288546e+09  1.144481e+09\n",
              "50%      6.875267  2.000000e+08  ...  1.389097e+09  1.307904e+09\n",
              "75%      9.408329  2.150000e+08  ...  1.787840e+09  1.574658e+09\n",
              "max     32.985763  2.800000e+08  ...  2.827124e+09  2.544506e+09\n",
              "\n",
              "[8 rows x 10 columns]"
            ]
          },
          "metadata": {},
          "execution_count": 24
        }
      ]
    },
    {
      "cell_type": "code",
      "metadata": {
        "colab": {
          "base_uri": "https://localhost:8080/",
          "height": 295
        },
        "id": "WpEZ9Mvq1W0l",
        "outputId": "1cf81b07-e33e-4f20-f990-b7b869c6914f"
      },
      "source": [
        "# We plot graphs of the revenie against various fratures to see which ones had strong corelations.\n",
        "# Popularity, Budget, length, vote_count and release year\n",
        "\n",
        "# We store revenue and popularity in python variables\n",
        "revenue = revenue_df['revenue']\n",
        "popularity = revenue_df['popularity']\n",
        "\n",
        "# Render\n",
        "plt.scatter(revenue, popularity)\n",
        "\n",
        "# Tweak and Label\n",
        "plt.title('Scatterplot of Revenue and Popularity of Movies')\n",
        "plt.xlabel('Revenue of Movies')\n",
        "plt.ylabel('Popularity')\n",
        "\n",
        "# Display\n",
        "plt.show()"
      ],
      "execution_count": 25,
      "outputs": [
        {
          "output_type": "display_data",
          "data": {
            "image/png": "[encoded data removed]",
            "text/plain": [
              "<Figure size 432x288 with 1 Axes>"
            ]
          },
          "metadata": {
            "needs_background": "light"
          }
        }
      ]
    },
    {
      "cell_type": "code",
      "metadata": {
        "colab": {
          "base_uri": "https://localhost:8080/",
          "height": 295
        },
        "id": "3k2uDBg91b7l",
        "outputId": "e435099b-3e5b-4cb0-e165-22051d99ddb8"
      },
      "source": [
        "# We store revenue and budget in python variables\n",
        "revenue = revenue_df['revenue']\n",
        "budget = revenue_df['budget']\n",
        "\n",
        "# Render\n",
        "plt.scatter(revenue, budget)\n",
        "\n",
        "# Tweak and Label\n",
        "plt.title('Scatterplot of Revenue and Budget of Movies')\n",
        "plt.xlabel('Revenue of Movies')\n",
        "plt.ylabel('Budget')\n",
        "\n",
        "# Display\n",
        "plt.show()"
      ],
      "execution_count": 26,
      "outputs": [
        {
          "output_type": "display_data",
          "data": {
            "image/png": "[encoded data removed]",
            "text/plain": [
              "<Figure size 432x288 with 1 Axes>"
            ]
          },
          "metadata": {
            "needs_background": "light"
          }
        }
      ]
    },
    {
      "cell_type": "code",
      "metadata": {
        "colab": {
          "base_uri": "https://localhost:8080/",
          "height": 295
        },
        "id": "QruRTscy1hes",
        "outputId": "4794e90e-3877-4905-db18-ede0d5097a53"
      },
      "source": [
        "# We store revenue and runtime in python variables\n",
        "revenue = revenue_df['revenue']\n",
        "runtime = revenue_df['runtime']\n",
        "\n",
        "# Render\n",
        "plt.scatter(revenue, runtime)\n",
        "\n",
        "# Tweak and Label\n",
        "plt.title('Scatterplot of Revenue and Runtime of Movies')\n",
        "plt.xlabel('Revenue of Movies')\n",
        "plt.ylabel('Runtime')\n",
        "\n",
        "# Display\n",
        "plt.show()"
      ],
      "execution_count": 27,
      "outputs": [
        {
          "output_type": "display_data",
          "data": {
            "image/png": "[encoded data removed]",
            "text/plain": [
              "<Figure size 432x288 with 1 Axes>"
            ]
          },
          "metadata": {
            "needs_background": "light"
          }
        }
      ]
    },
    {
      "cell_type": "code",
      "metadata": {
        "colab": {
          "base_uri": "https://localhost:8080/",
          "height": 295
        },
        "id": "Y_AHcrRr1kTq",
        "outputId": "55f8cf95-eb7c-4ddd-a6de-49131775e8c1"
      },
      "source": [
        "# We store revenue and vote_count of movies in python variables\n",
        "revenue = revenue_df['revenue']\n",
        "vote_count = revenue_df['vote_count']\n",
        "\n",
        "# Render\n",
        "plt.scatter(revenue, vote_count)\n",
        "\n",
        "# Tweak and Label\n",
        "plt.title('Scatterplot of Revenue and Vote Count of Movies')\n",
        "plt.xlabel('Revenue of Movies')\n",
        "plt.ylabel('Vote Count')\n",
        "\n",
        "# Display\n",
        "plt.show()"
      ],
      "execution_count": 28,
      "outputs": [
        {
          "output_type": "display_data",
          "data": {
            "image/png": "[encoded data removed]",
            "text/plain": [
              "<Figure size 432x288 with 1 Axes>"
            ]
          },
          "metadata": {
            "needs_background": "light"
          }
        }
      ]
    },
    {
      "cell_type": "markdown",
      "metadata": {
        "id": "obvTDtY41p2p"
      },
      "source": [
        "From the multiple graphs plotted, we can conclude that the following features are associated with the top 10 revenue movies:\n",
        "\n",
        "- Release Year\n",
        "- Budget\n",
        "- Length \n",
        "These are the features that indicate a correlation with the revenue generated from the 10 movies."
      ]
    },
    {
      "cell_type": "markdown",
      "metadata": {
        "id": "uT6cBVNkD8Np"
      },
      "source": [
        "**Question 5:** Which genres are most popular from year to year?"
      ]
    },
    {
      "cell_type": "code",
      "metadata": {
        "id": "PBidMtmA3xlj",
        "colab": {
          "base_uri": "https://localhost:8080/",
          "height": 295
        },
        "outputId": "ea02b59f-6fda-40df-8130-8abd0383f649"
      },
      "source": [
        "# Question 5\n",
        "# ---\n",
        "# Which genres are most popular from year to year?\n",
        "# ---\n",
        "#\n",
        "\n",
        "# Prepare\n",
        "\n",
        "#years = df['release_year'].tolist() # tolist() returns a list of values\n",
        "\n",
        "\n",
        "# Render\n",
        "# plt.figure(figsize=(14, 5))\n",
        "genres = df['genres'].str.replace('|',' ')\n",
        "year = df['release_year']\n",
        "\n",
        "# Plot the graph\n",
        "plt.plot(year, genres)\n",
        "\n",
        "# Tweak & Label\n",
        "plt.title('Line Graph of Genre of Movies')\n",
        "plt.xlabel('Year')\n",
        "plt.ylabel('Genre')\n",
        "\n",
        "# Display\n",
        "plt.show()"
      ],
      "execution_count": 22,
      "outputs": [
        {
          "output_type": "display_data",
          "data": {
            "image/png": "[encoded data removed]",
            "text/plain": [
              "<Figure size 432x288 with 1 Axes>"
            ]
          },
          "metadata": {
            "needs_background": "light"
          }
        }
      ]
    },
    {
      "cell_type": "markdown",
      "metadata": {
        "id": "cpmGSOOqIMrt"
      },
      "source": [
        "### 5.b) Recommendations"
      ]
    },
    {
      "cell_type": "markdown",
      "metadata": {
        "id": "wDn2whdV0Zcg"
      },
      "source": [
        "From the above analysis, below are our recommendations:\n",
        "\n",
        "\n",
        "\n",
        "The kind of movies that they should create in order to have a profitable are:\n",
        "\n",
        "- Those with a runtime of 150-200; they tend to receive higher vote counts.\n",
        "- Themed around the years of 2014-2015; the moviesproduced in these years pulled in the most profits. Whether it is in directing style or plot settings.\n",
        "\n",
        "It is important to note that budget does not necessarily matter; movies with high budgets as well as low budgets have performed the same in regard to vote count, revenue and popularity.\n",
        "\n",
        "\n"
      ]
    },
    {
      "cell_type": "markdown",
      "metadata": {
        "id": "noZz5YRQXKzi"
      },
      "source": [
        "## 6. Challenging your Solution"
      ]
    },
    {
      "cell_type": "markdown",
      "metadata": {
        "id": "8cBhICFk32nQ"
      },
      "source": [
        "It is not evident which genre is most popular from year to year; the graph plotted does not offer clear insights."
      ]
    },
    {
      "cell_type": "markdown",
      "metadata": {
        "id": "xrmHVMVsVS--"
      },
      "source": [
        "## 7. Follow up questions"
      ]
    },
    {
      "cell_type": "markdown",
      "metadata": {
        "id": "pth2qSWhuBIy"
      },
      "source": [
        "During this step, you rethink and propose other ways that you can improve your solution."
      ]
    },
    {
      "cell_type": "markdown",
      "metadata": {
        "id": "HPQviDmNtta8"
      },
      "source": [
        "### a). Did we have the right data?"
      ]
    },
    {
      "cell_type": "markdown",
      "metadata": {
        "id": "E7qsJx3U2XKY"
      },
      "source": [
        "Yes, the data was useful in gaining insights and knowledge in the movie making industry."
      ]
    },
    {
      "cell_type": "markdown",
      "metadata": {
        "id": "qjFHK1CKty7o"
      },
      "source": [
        "### b). Do we need other data to answer our question?"
      ]
    },
    {
      "cell_type": "markdown",
      "metadata": {
        "id": "SyJMFjvmKePc"
      },
      "source": [
        "You can look into the questions you brainstormed that you weren't taken into account during analysis due to a lack of data. Were those questions important to have been left out  of your analysis?"
      ]
    },
    {
      "cell_type": "markdown",
      "metadata": {
        "id": "TqSErgdw2SC1"
      },
      "source": [
        "The data used was not inclusive of movies from other regions/companies i.e Bollywood, Nollywood, Anime and others... thus does not give a conclusive overview of the film industry.\n",
        "\n",
        "In addition to this, it would have been helpful to know if any of the movies had been nominated for or won awards in measuring their successes."
      ]
    },
    {
      "cell_type": "markdown",
      "metadata": {
        "id": "HSsicSdvt4Zs"
      },
      "source": [
        "### c). Did we have the right question?"
      ]
    },
    {
      "cell_type": "markdown",
      "metadata": {
        "id": "DvVFZGvNKfSv"
      },
      "source": [
        "Were there any other questions that we needed to have answered?"
      ]
    },
    {
      "cell_type": "markdown",
      "metadata": {
        "id": "U5UJuhra2HNl"
      },
      "source": [
        "Yes the questions are: \n",
        "- Which actors/actresses are best in ensuring larger profits?\n",
        "- Are there prominent production companies and producers in the industry?\n"
      ]
    }
  ]
}